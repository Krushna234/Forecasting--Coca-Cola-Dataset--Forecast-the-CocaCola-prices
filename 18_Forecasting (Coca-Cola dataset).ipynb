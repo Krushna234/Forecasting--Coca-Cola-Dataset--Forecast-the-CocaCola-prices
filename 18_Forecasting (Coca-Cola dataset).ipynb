{
 "cells": [
  {
   "cell_type": "code",
   "execution_count": 88,
   "id": "756b4ac6",
   "metadata": {},
   "outputs": [],
   "source": [
    "import pandas as pd\n",
    "import numpy as np\n",
    "import matplotlib.pyplot as plt\n",
    "import seaborn as sns\n",
    "import statsmodels.api as sm\n",
    "from statsmodels.tsa.seasonal import seasonal_decompose\n",
    "from statsmodels.tsa.holtwinters import SimpleExpSmoothing\n",
    "from statsmodels.tsa.holtwinters import Holt\n",
    "from statsmodels.tsa.holtwinters import ExponentialSmoothing\n",
    "import statsmodels.graphics.tsaplots as tsa_plots\n",
    "import statsmodels.tsa.statespace as tm_models\n",
    "from datetime import datetime,time\n",
    "import warnings\n",
    "import itertools\n",
    "import matplotlib.pyplot as plt\n",
    "warnings.filterwarnings(\"ignore\")\n",
    "plt.style.use('fivethirtyeight')\n",
    "import pandas as pd\n",
    "import statsmodels.api as sm\n",
    "import matplotlib\n",
    "from pylab import rcParams\n",
    "from statsmodels.tsa.arima_model import ARIMA\n",
    "from matplotlib import pyplot\n",
    "from sklearn.metrics import mean_squared_error\n",
    "import statsmodels.formula.api as smf"
   ]
  },
  {
   "cell_type": "code",
   "execution_count": 89,
   "id": "d4ddf852",
   "metadata": {},
   "outputs": [
    {
     "data": {
      "text/html": [
       "<div>\n",
       "<style scoped>\n",
       "    .dataframe tbody tr th:only-of-type {\n",
       "        vertical-align: middle;\n",
       "    }\n",
       "\n",
       "    .dataframe tbody tr th {\n",
       "        vertical-align: top;\n",
       "    }\n",
       "\n",
       "    .dataframe thead th {\n",
       "        text-align: right;\n",
       "    }\n",
       "</style>\n",
       "<table border=\"1\" class=\"dataframe\">\n",
       "  <thead>\n",
       "    <tr style=\"text-align: right;\">\n",
       "      <th></th>\n",
       "      <th>Quarter</th>\n",
       "      <th>Sales</th>\n",
       "    </tr>\n",
       "  </thead>\n",
       "  <tbody>\n",
       "    <tr>\n",
       "      <th>0</th>\n",
       "      <td>Q1_86</td>\n",
       "      <td>1734.827000</td>\n",
       "    </tr>\n",
       "    <tr>\n",
       "      <th>1</th>\n",
       "      <td>Q2_86</td>\n",
       "      <td>2244.960999</td>\n",
       "    </tr>\n",
       "    <tr>\n",
       "      <th>2</th>\n",
       "      <td>Q3_86</td>\n",
       "      <td>2533.804993</td>\n",
       "    </tr>\n",
       "    <tr>\n",
       "      <th>3</th>\n",
       "      <td>Q4_86</td>\n",
       "      <td>2154.962997</td>\n",
       "    </tr>\n",
       "    <tr>\n",
       "      <th>4</th>\n",
       "      <td>Q1_87</td>\n",
       "      <td>1547.818996</td>\n",
       "    </tr>\n",
       "  </tbody>\n",
       "</table>\n",
       "</div>"
      ],
      "text/plain": [
       "  Quarter        Sales\n",
       "0   Q1_86  1734.827000\n",
       "1   Q2_86  2244.960999\n",
       "2   Q3_86  2533.804993\n",
       "3   Q4_86  2154.962997\n",
       "4   Q1_87  1547.818996"
      ]
     },
     "execution_count": 89,
     "metadata": {},
     "output_type": "execute_result"
    }
   ],
   "source": [
    "df = pd.read_excel('CocaCola_Sales_Rawdata.xlsx')\n",
    "df.head()"
   ]
  },
  {
   "cell_type": "markdown",
   "id": "874cf0f1",
   "metadata": {},
   "source": [
    "# Data Insights and Visualization"
   ]
  },
  {
   "cell_type": "code",
   "execution_count": 90,
   "id": "767f2988",
   "metadata": {},
   "outputs": [
    {
     "data": {
      "text/plain": [
       "(42, 2)"
      ]
     },
     "execution_count": 90,
     "metadata": {},
     "output_type": "execute_result"
    }
   ],
   "source": [
    "df.shape"
   ]
  },
  {
   "cell_type": "code",
   "execution_count": 91,
   "id": "0903912a",
   "metadata": {},
   "outputs": [
    {
     "data": {
      "text/html": [
       "<div>\n",
       "<style scoped>\n",
       "    .dataframe tbody tr th:only-of-type {\n",
       "        vertical-align: middle;\n",
       "    }\n",
       "\n",
       "    .dataframe tbody tr th {\n",
       "        vertical-align: top;\n",
       "    }\n",
       "\n",
       "    .dataframe thead th {\n",
       "        text-align: right;\n",
       "    }\n",
       "</style>\n",
       "<table border=\"1\" class=\"dataframe\">\n",
       "  <thead>\n",
       "    <tr style=\"text-align: right;\">\n",
       "      <th></th>\n",
       "      <th>Sales</th>\n",
       "    </tr>\n",
       "  </thead>\n",
       "  <tbody>\n",
       "    <tr>\n",
       "      <th>count</th>\n",
       "      <td>42.000000</td>\n",
       "    </tr>\n",
       "    <tr>\n",
       "      <th>mean</th>\n",
       "      <td>2994.353308</td>\n",
       "    </tr>\n",
       "    <tr>\n",
       "      <th>std</th>\n",
       "      <td>977.930896</td>\n",
       "    </tr>\n",
       "    <tr>\n",
       "      <th>min</th>\n",
       "      <td>1547.818996</td>\n",
       "    </tr>\n",
       "    <tr>\n",
       "      <th>25%</th>\n",
       "      <td>2159.714247</td>\n",
       "    </tr>\n",
       "    <tr>\n",
       "      <th>50%</th>\n",
       "      <td>2782.376999</td>\n",
       "    </tr>\n",
       "    <tr>\n",
       "      <th>75%</th>\n",
       "      <td>3609.250000</td>\n",
       "    </tr>\n",
       "    <tr>\n",
       "      <th>max</th>\n",
       "      <td>5253.000000</td>\n",
       "    </tr>\n",
       "  </tbody>\n",
       "</table>\n",
       "</div>"
      ],
      "text/plain": [
       "             Sales\n",
       "count    42.000000\n",
       "mean   2994.353308\n",
       "std     977.930896\n",
       "min    1547.818996\n",
       "25%    2159.714247\n",
       "50%    2782.376999\n",
       "75%    3609.250000\n",
       "max    5253.000000"
      ]
     },
     "execution_count": 91,
     "metadata": {},
     "output_type": "execute_result"
    }
   ],
   "source": [
    "df.describe()"
   ]
  },
  {
   "cell_type": "code",
   "execution_count": 92,
   "id": "2d4257c0",
   "metadata": {},
   "outputs": [
    {
     "name": "stdout",
     "output_type": "stream",
     "text": [
      "<class 'pandas.core.frame.DataFrame'>\n",
      "RangeIndex: 42 entries, 0 to 41\n",
      "Data columns (total 2 columns):\n",
      " #   Column   Non-Null Count  Dtype  \n",
      "---  ------   --------------  -----  \n",
      " 0   Quarter  42 non-null     object \n",
      " 1   Sales    42 non-null     float64\n",
      "dtypes: float64(1), object(1)\n",
      "memory usage: 800.0+ bytes\n"
     ]
    }
   ],
   "source": [
    "df.info()"
   ]
  },
  {
   "cell_type": "code",
   "execution_count": 93,
   "id": "574bdcad",
   "metadata": {},
   "outputs": [
    {
     "data": {
      "text/plain": [
       "Quarter    0\n",
       "Sales      0\n",
       "dtype: int64"
      ]
     },
     "execution_count": 93,
     "metadata": {},
     "output_type": "execute_result"
    }
   ],
   "source": [
    "df.isna().sum()"
   ]
  },
  {
   "cell_type": "code",
   "execution_count": 94,
   "id": "f17d281c",
   "metadata": {},
   "outputs": [
    {
     "data": {
      "image/png": "[encoded data removed]",
      "text/plain": [
       "<Figure size 576x360 with 1 Axes>"
      ]
     },
     "metadata": {},
     "output_type": "display_data"
    }
   ],
   "source": [
    "plt.axes()\n",
    "\n",
    "df['Sales'].hist(figsize = (8,5))\n",
    "\n",
    "plt.show()"
   ]
  },
  {
   "cell_type": "code",
   "execution_count": 95,
   "id": "d3dd5625",
   "metadata": {},
   "outputs": [
    {
     "data": {
      "image/png": "[encoded data removed]",
      "text/plain": [
       "<Figure size 1800x576 with 1 Axes>"
      ]
     },
     "metadata": {},
     "output_type": "display_data"
    }
   ],
   "source": [
    "plt.figure(figsize = (25,8))\n",
    "plt.axes()\n",
    "plt.plot(df['Sales'], linewidth = 2)\n",
    "plt.show()"
   ]
  },
  {
   "cell_type": "code",
   "execution_count": 96,
   "id": "40b3e625",
   "metadata": {},
   "outputs": [
    {
     "data": {
      "text/plain": [
       "<AxesSubplot:>"
      ]
     },
     "execution_count": 96,
     "metadata": {},
     "output_type": "execute_result"
    },
    {
     "data": {
      "image/png": "[encoded data removed]",
      "text/plain": [
       "<Figure size 432x288 with 1 Axes>"
      ]
     },
     "metadata": {},
     "output_type": "display_data"
    }
   ],
   "source": [
    "sns.boxplot(data=df['Sales'])"
   ]
  },
  {
   "cell_type": "code",
   "execution_count": 97,
   "id": "05850f51",
   "metadata": {},
   "outputs": [
    {
     "data": {
      "image/png": "[encoded data removed]",
      "text/plain": [
       "<Figure size 432x288 with 1 Axes>"
      ]
     },
     "metadata": {},
     "output_type": "display_data"
    },
    {
     "data": {
      "image/png": "[encoded data removed]",
      "text/plain": [
       "<Figure size 432x288 with 1 Axes>"
      ]
     },
     "metadata": {},
     "output_type": "display_data"
    }
   ],
   "source": [
    "tsa_plots.plot_acf(df['Sales'],lags = 12)\n",
    "\n",
    "tsa_plots.plot_pacf(df['Sales'],lags = 12)\n",
    "\n",
    "plt.show()"
   ]
  },
  {
   "cell_type": "markdown",
   "id": "28322f4e",
   "metadata": {},
   "source": [
    "# Time series decomposition plot"
   ]
  },
  {
   "cell_type": "code",
   "execution_count": 98,
   "id": "071644d3",
   "metadata": {},
   "outputs": [
    {
     "data": {
      "image/png": "[encoded data removed]",
      "text/plain": [
       "<Figure size 432x288 with 4 Axes>"
      ]
     },
     "metadata": {},
     "output_type": "display_data"
    }
   ],
   "source": [
    "ts_decompose = seasonal_decompose(df.Sales,period = 12)\n",
    "ts_decompose.plot()\n",
    "plt.show()"
   ]
  },
  {
   "cell_type": "markdown",
   "id": "d32a934b",
   "metadata": {},
   "source": [
    "# Time series forecasting with ARIMA"
   ]
  },
  {
   "cell_type": "code",
   "execution_count": 99,
   "id": "5ca82c84",
   "metadata": {},
   "outputs": [],
   "source": [
    "X = df['Sales'].values"
   ]
  },
  {
   "cell_type": "code",
   "execution_count": 100,
   "id": "7616004b",
   "metadata": {},
   "outputs": [],
   "source": [
    "size = int(len(X) * 0.66)"
   ]
  },
  {
   "cell_type": "code",
   "execution_count": 101,
   "id": "e49bb7d3",
   "metadata": {},
   "outputs": [],
   "source": [
    "train, test = X[0:size], X[size:len(X)]"
   ]
  },
  {
   "cell_type": "code",
   "execution_count": 102,
   "id": "1df27fd1",
   "metadata": {},
   "outputs": [],
   "source": [
    "from statsmodels.tsa.arima.model import ARIMA"
   ]
  },
  {
   "cell_type": "code",
   "execution_count": 103,
   "id": "e4149bd6",
   "metadata": {},
   "outputs": [],
   "source": [
    "model = ARIMA(train, order=(5,1,0))"
   ]
  },
  {
   "cell_type": "code",
   "execution_count": 104,
   "id": "6a5af4c5",
   "metadata": {},
   "outputs": [],
   "source": [
    "model_fit = model.fit()"
   ]
  },
  {
   "cell_type": "code",
   "execution_count": 105,
   "id": "4a787147",
   "metadata": {},
   "outputs": [
    {
     "name": "stdout",
     "output_type": "stream",
     "text": [
      "                               SARIMAX Results                                \n",
      "==============================================================================\n",
      "Dep. Variable:                      y   No. Observations:                   27\n",
      "Model:                 ARIMA(5, 1, 0)   Log Likelihood                -174.082\n",
      "Date:                Mon, 20 Feb 2023   AIC                            360.163\n",
      "Time:                        08:42:29   BIC                            367.712\n",
      "Sample:                             0   HQIC                           362.337\n",
      "                                 - 27                                         \n",
      "Covariance Type:                  opg                                         \n",
      "==============================================================================\n",
      "                 coef    std err          z      P>|z|      [0.025      0.975]\n",
      "------------------------------------------------------------------------------\n",
      "ar.L1         -0.1024      0.306     -0.335      0.738      -0.702       0.497\n",
      "ar.L2         -0.2140      0.160     -1.338      0.181      -0.527       0.099\n",
      "ar.L3         -0.0892      0.191     -0.468      0.640      -0.463       0.284\n",
      "ar.L4          0.7213      0.131      5.521      0.000       0.465       0.977\n",
      "ar.L5         -0.1043      0.350     -0.298      0.766      -0.790       0.581\n",
      "sigma2      2.821e+04   8989.347      3.138      0.002    1.06e+04    4.58e+04\n",
      "===================================================================================\n",
      "Ljung-Box (L1) (Q):                   0.01   Jarque-Bera (JB):                 0.57\n",
      "Prob(Q):                              0.93   Prob(JB):                         0.75\n",
      "Heteroskedasticity (H):               0.38   Skew:                            -0.36\n",
      "Prob(H) (two-sided):                  0.17   Kurtosis:                         3.07\n",
      "===================================================================================\n",
      "\n",
      "Warnings:\n",
      "[1] Covariance matrix calculated using the outer product of gradients (complex-step).\n"
     ]
    }
   ],
   "source": [
    "print(model_fit.summary())"
   ]
  },
  {
   "cell_type": "code",
   "execution_count": 106,
   "id": "1e51686f",
   "metadata": {},
   "outputs": [
    {
     "data": {
      "image/png": "[encoded data removed]",
      "text/plain": [
       "<Figure size 432x288 with 1 Axes>"
      ]
     },
     "metadata": {},
     "output_type": "display_data"
    },
    {
     "data": {
      "image/png": "[encoded data removed]",
      "text/plain": [
       "<Figure size 432x288 with 1 Axes>"
      ]
     },
     "metadata": {},
     "output_type": "display_data"
    },
    {
     "name": "stdout",
     "output_type": "stream",
     "text": [
      "                 0\n",
      "count    27.000000\n",
      "mean    137.791853\n",
      "std     385.970462\n",
      "min    -433.659591\n",
      "25%     -34.938861\n",
      "50%      55.067400\n",
      "75%     247.080157\n",
      "max    1734.827000\n"
     ]
    }
   ],
   "source": [
    "residuals = pd.DataFrame(model_fit.resid)\n",
    "residuals.plot()\n",
    "pyplot.show()\n",
    "residuals.plot(kind='kde',color='red')\n",
    "pyplot.show()\n",
    "print(residuals.describe())"
   ]
  },
  {
   "cell_type": "markdown",
   "id": "22de07df",
   "metadata": {},
   "source": [
    "### Rolling Forecast ARIMA Model"
   ]
  },
  {
   "cell_type": "code",
   "execution_count": 107,
   "id": "69fbe3fb",
   "metadata": {},
   "outputs": [],
   "source": [
    "history = [x for x in train]"
   ]
  },
  {
   "cell_type": "code",
   "execution_count": 108,
   "id": "b586bab7",
   "metadata": {},
   "outputs": [],
   "source": [
    "predictions = list()"
   ]
  },
  {
   "cell_type": "code",
   "execution_count": 109,
   "id": "11977292",
   "metadata": {},
   "outputs": [
    {
     "name": "stdout",
     "output_type": "stream",
     "text": [
      "predicted=3130.132570, expected=3243.859993\n",
      "predicted=3167.315970, expected=3056.000000\n",
      "predicted=3717.472606, expected=3899.000000\n",
      "predicted=3775.837495, expected=3629.000000\n",
      "predicted=3332.727871, expected=3373.000000\n",
      "predicted=3258.576338, expected=3352.000000\n",
      "predicted=4081.006046, expected=4342.000000\n",
      "predicted=3955.786233, expected=4461.000000\n",
      "predicted=4146.277853, expected=4017.000000\n",
      "predicted=3958.436761, expected=3854.000000\n",
      "predicted=4701.652911, expected=4936.000000\n",
      "predicted=4990.072284, expected=4895.000000\n",
      "predicted=4390.352783, expected=4333.000000\n",
      "predicted=4190.807855, expected=4194.000000\n",
      "predicted=5176.909532, expected=5253.000000\n"
     ]
    }
   ],
   "source": [
    "for t in range(len(test)):\n",
    "    model = ARIMA(history, order=(5,1,0))\n",
    "    model_fit = model.fit()\n",
    "    output = model_fit.forecast()\n",
    "    yhat = output[0]\n",
    "    predictions.append(yhat)\n",
    "    obs = test[t]\n",
    "    history.append(obs)\n",
    "    print('predicted=%f, expected=%f' % (yhat, obs))"
   ]
  },
  {
   "cell_type": "code",
   "execution_count": 110,
   "id": "b34e554b",
   "metadata": {},
   "outputs": [
    {
     "name": "stdout",
     "output_type": "stream",
     "text": [
      "Test MSE: 34280.908\n"
     ]
    }
   ],
   "source": [
    "error = mean_squared_error(test, predictions)\n",
    "print('Test MSE: %.3f' % error)"
   ]
  },
  {
   "cell_type": "code",
   "execution_count": 111,
   "id": "7e2051d7",
   "metadata": {},
   "outputs": [
    {
     "data": {
      "image/png": "[encoded data removed]",
      "text/plain": [
       "<Figure size 432x288 with 1 Axes>"
      ]
     },
     "metadata": {},
     "output_type": "display_data"
    }
   ],
   "source": [
    "pyplot.plot(test)\n",
    "pyplot.plot(predictions, color='orange')\n",
    "pyplot.show()"
   ]
  },
  {
   "cell_type": "markdown",
   "id": "85a8e571",
   "metadata": {},
   "source": [
    "expected values - blue\\\n",
    "rolling forecast predictions - yellow"
   ]
  },
  {
   "cell_type": "markdown",
   "id": "9def3eee",
   "metadata": {},
   "source": [
    "# Multiple Models"
   ]
  },
  {
   "cell_type": "code",
   "execution_count": 112,
   "id": "f28e8497",
   "metadata": {},
   "outputs": [],
   "source": [
    "df2 = pd.get_dummies(df, columns = ['Quarter'])"
   ]
  },
  {
   "cell_type": "code",
   "execution_count": 113,
   "id": "e5619dd1",
   "metadata": {},
   "outputs": [],
   "source": [
    "df2.columns = ['Sales','Q1','Q1','Q1','Q1','Q1','Q1','Q1','Q1','Q1','Q1','Q1','Q2','Q2','Q2','Q2','Q2','Q2','Q2','Q2','Q2','Q2','Q2','Q3','Q3','Q3','Q3','Q3','Q3','Q3','Q3','Q3','Q3','Q4','Q4','Q4','Q4','Q4','Q4','Q4','Q4','Q4','Q4']"
   ]
  },
  {
   "cell_type": "code",
   "execution_count": 114,
   "id": "1a68645c",
   "metadata": {},
   "outputs": [
    {
     "data": {
      "text/html": [
       "<div>\n",
       "<style scoped>\n",
       "    .dataframe tbody tr th:only-of-type {\n",
       "        vertical-align: middle;\n",
       "    }\n",
       "\n",
       "    .dataframe tbody tr th {\n",
       "        vertical-align: top;\n",
       "    }\n",
       "\n",
       "    .dataframe thead th {\n",
       "        text-align: right;\n",
       "    }\n",
       "</style>\n",
       "<table border=\"1\" class=\"dataframe\">\n",
       "  <thead>\n",
       "    <tr style=\"text-align: right;\">\n",
       "      <th></th>\n",
       "      <th>0</th>\n",
       "      <th>1</th>\n",
       "      <th>2</th>\n",
       "      <th>3</th>\n",
       "      <th>4</th>\n",
       "    </tr>\n",
       "  </thead>\n",
       "  <tbody>\n",
       "    <tr>\n",
       "      <th>Sales</th>\n",
       "      <td>1734.827</td>\n",
       "      <td>2244.960999</td>\n",
       "      <td>2533.804993</td>\n",
       "      <td>2154.962997</td>\n",
       "      <td>1547.818996</td>\n",
       "    </tr>\n",
       "    <tr>\n",
       "      <th>Q1</th>\n",
       "      <td>1.000</td>\n",
       "      <td>0.000000</td>\n",
       "      <td>0.000000</td>\n",
       "      <td>0.000000</td>\n",
       "      <td>0.000000</td>\n",
       "    </tr>\n",
       "    <tr>\n",
       "      <th>Q1</th>\n",
       "      <td>0.000</td>\n",
       "      <td>0.000000</td>\n",
       "      <td>0.000000</td>\n",
       "      <td>0.000000</td>\n",
       "      <td>1.000000</td>\n",
       "    </tr>\n",
       "    <tr>\n",
       "      <th>Q1</th>\n",
       "      <td>0.000</td>\n",
       "      <td>0.000000</td>\n",
       "      <td>0.000000</td>\n",
       "      <td>0.000000</td>\n",
       "      <td>0.000000</td>\n",
       "    </tr>\n",
       "    <tr>\n",
       "      <th>Q1</th>\n",
       "      <td>0.000</td>\n",
       "      <td>0.000000</td>\n",
       "      <td>0.000000</td>\n",
       "      <td>0.000000</td>\n",
       "      <td>0.000000</td>\n",
       "    </tr>\n",
       "    <tr>\n",
       "      <th>Q1</th>\n",
       "      <td>0.000</td>\n",
       "      <td>0.000000</td>\n",
       "      <td>0.000000</td>\n",
       "      <td>0.000000</td>\n",
       "      <td>0.000000</td>\n",
       "    </tr>\n",
       "    <tr>\n",
       "      <th>Q1</th>\n",
       "      <td>0.000</td>\n",
       "      <td>0.000000</td>\n",
       "      <td>0.000000</td>\n",
       "      <td>0.000000</td>\n",
       "      <td>0.000000</td>\n",
       "    </tr>\n",
       "    <tr>\n",
       "      <th>Q1</th>\n",
       "      <td>0.000</td>\n",
       "      <td>0.000000</td>\n",
       "      <td>0.000000</td>\n",
       "      <td>0.000000</td>\n",
       "      <td>0.000000</td>\n",
       "    </tr>\n",
       "    <tr>\n",
       "      <th>Q1</th>\n",
       "      <td>0.000</td>\n",
       "      <td>0.000000</td>\n",
       "      <td>0.000000</td>\n",
       "      <td>0.000000</td>\n",
       "      <td>0.000000</td>\n",
       "    </tr>\n",
       "    <tr>\n",
       "      <th>Q1</th>\n",
       "      <td>0.000</td>\n",
       "      <td>0.000000</td>\n",
       "      <td>0.000000</td>\n",
       "      <td>0.000000</td>\n",
       "      <td>0.000000</td>\n",
       "    </tr>\n",
       "    <tr>\n",
       "      <th>Q1</th>\n",
       "      <td>0.000</td>\n",
       "      <td>0.000000</td>\n",
       "      <td>0.000000</td>\n",
       "      <td>0.000000</td>\n",
       "      <td>0.000000</td>\n",
       "    </tr>\n",
       "    <tr>\n",
       "      <th>Q1</th>\n",
       "      <td>0.000</td>\n",
       "      <td>0.000000</td>\n",
       "      <td>0.000000</td>\n",
       "      <td>0.000000</td>\n",
       "      <td>0.000000</td>\n",
       "    </tr>\n",
       "    <tr>\n",
       "      <th>Q2</th>\n",
       "      <td>0.000</td>\n",
       "      <td>1.000000</td>\n",
       "      <td>0.000000</td>\n",
       "      <td>0.000000</td>\n",
       "      <td>0.000000</td>\n",
       "    </tr>\n",
       "    <tr>\n",
       "      <th>Q2</th>\n",
       "      <td>0.000</td>\n",
       "      <td>0.000000</td>\n",
       "      <td>0.000000</td>\n",
       "      <td>0.000000</td>\n",
       "      <td>0.000000</td>\n",
       "    </tr>\n",
       "    <tr>\n",
       "      <th>Q2</th>\n",
       "      <td>0.000</td>\n",
       "      <td>0.000000</td>\n",
       "      <td>0.000000</td>\n",
       "      <td>0.000000</td>\n",
       "      <td>0.000000</td>\n",
       "    </tr>\n",
       "    <tr>\n",
       "      <th>Q2</th>\n",
       "      <td>0.000</td>\n",
       "      <td>0.000000</td>\n",
       "      <td>0.000000</td>\n",
       "      <td>0.000000</td>\n",
       "      <td>0.000000</td>\n",
       "    </tr>\n",
       "    <tr>\n",
       "      <th>Q2</th>\n",
       "      <td>0.000</td>\n",
       "      <td>0.000000</td>\n",
       "      <td>0.000000</td>\n",
       "      <td>0.000000</td>\n",
       "      <td>0.000000</td>\n",
       "    </tr>\n",
       "    <tr>\n",
       "      <th>Q2</th>\n",
       "      <td>0.000</td>\n",
       "      <td>0.000000</td>\n",
       "      <td>0.000000</td>\n",
       "      <td>0.000000</td>\n",
       "      <td>0.000000</td>\n",
       "    </tr>\n",
       "    <tr>\n",
       "      <th>Q2</th>\n",
       "      <td>0.000</td>\n",
       "      <td>0.000000</td>\n",
       "      <td>0.000000</td>\n",
       "      <td>0.000000</td>\n",
       "      <td>0.000000</td>\n",
       "    </tr>\n",
       "    <tr>\n",
       "      <th>Q2</th>\n",
       "      <td>0.000</td>\n",
       "      <td>0.000000</td>\n",
       "      <td>0.000000</td>\n",
       "      <td>0.000000</td>\n",
       "      <td>0.000000</td>\n",
       "    </tr>\n",
       "    <tr>\n",
       "      <th>Q2</th>\n",
       "      <td>0.000</td>\n",
       "      <td>0.000000</td>\n",
       "      <td>0.000000</td>\n",
       "      <td>0.000000</td>\n",
       "      <td>0.000000</td>\n",
       "    </tr>\n",
       "    <tr>\n",
       "      <th>Q2</th>\n",
       "      <td>0.000</td>\n",
       "      <td>0.000000</td>\n",
       "      <td>0.000000</td>\n",
       "      <td>0.000000</td>\n",
       "      <td>0.000000</td>\n",
       "    </tr>\n",
       "    <tr>\n",
       "      <th>Q2</th>\n",
       "      <td>0.000</td>\n",
       "      <td>0.000000</td>\n",
       "      <td>0.000000</td>\n",
       "      <td>0.000000</td>\n",
       "      <td>0.000000</td>\n",
       "    </tr>\n",
       "    <tr>\n",
       "      <th>Q3</th>\n",
       "      <td>0.000</td>\n",
       "      <td>0.000000</td>\n",
       "      <td>1.000000</td>\n",
       "      <td>0.000000</td>\n",
       "      <td>0.000000</td>\n",
       "    </tr>\n",
       "    <tr>\n",
       "      <th>Q3</th>\n",
       "      <td>0.000</td>\n",
       "      <td>0.000000</td>\n",
       "      <td>0.000000</td>\n",
       "      <td>0.000000</td>\n",
       "      <td>0.000000</td>\n",
       "    </tr>\n",
       "    <tr>\n",
       "      <th>Q3</th>\n",
       "      <td>0.000</td>\n",
       "      <td>0.000000</td>\n",
       "      <td>0.000000</td>\n",
       "      <td>0.000000</td>\n",
       "      <td>0.000000</td>\n",
       "    </tr>\n",
       "    <tr>\n",
       "      <th>Q3</th>\n",
       "      <td>0.000</td>\n",
       "      <td>0.000000</td>\n",
       "      <td>0.000000</td>\n",
       "      <td>0.000000</td>\n",
       "      <td>0.000000</td>\n",
       "    </tr>\n",
       "    <tr>\n",
       "      <th>Q3</th>\n",
       "      <td>0.000</td>\n",
       "      <td>0.000000</td>\n",
       "      <td>0.000000</td>\n",
       "      <td>0.000000</td>\n",
       "      <td>0.000000</td>\n",
       "    </tr>\n",
       "    <tr>\n",
       "      <th>Q3</th>\n",
       "      <td>0.000</td>\n",
       "      <td>0.000000</td>\n",
       "      <td>0.000000</td>\n",
       "      <td>0.000000</td>\n",
       "      <td>0.000000</td>\n",
       "    </tr>\n",
       "    <tr>\n",
       "      <th>Q3</th>\n",
       "      <td>0.000</td>\n",
       "      <td>0.000000</td>\n",
       "      <td>0.000000</td>\n",
       "      <td>0.000000</td>\n",
       "      <td>0.000000</td>\n",
       "    </tr>\n",
       "    <tr>\n",
       "      <th>Q3</th>\n",
       "      <td>0.000</td>\n",
       "      <td>0.000000</td>\n",
       "      <td>0.000000</td>\n",
       "      <td>0.000000</td>\n",
       "      <td>0.000000</td>\n",
       "    </tr>\n",
       "    <tr>\n",
       "      <th>Q3</th>\n",
       "      <td>0.000</td>\n",
       "      <td>0.000000</td>\n",
       "      <td>0.000000</td>\n",
       "      <td>0.000000</td>\n",
       "      <td>0.000000</td>\n",
       "    </tr>\n",
       "    <tr>\n",
       "      <th>Q3</th>\n",
       "      <td>0.000</td>\n",
       "      <td>0.000000</td>\n",
       "      <td>0.000000</td>\n",
       "      <td>0.000000</td>\n",
       "      <td>0.000000</td>\n",
       "    </tr>\n",
       "    <tr>\n",
       "      <th>Q4</th>\n",
       "      <td>0.000</td>\n",
       "      <td>0.000000</td>\n",
       "      <td>0.000000</td>\n",
       "      <td>1.000000</td>\n",
       "      <td>0.000000</td>\n",
       "    </tr>\n",
       "    <tr>\n",
       "      <th>Q4</th>\n",
       "      <td>0.000</td>\n",
       "      <td>0.000000</td>\n",
       "      <td>0.000000</td>\n",
       "      <td>0.000000</td>\n",
       "      <td>0.000000</td>\n",
       "    </tr>\n",
       "    <tr>\n",
       "      <th>Q4</th>\n",
       "      <td>0.000</td>\n",
       "      <td>0.000000</td>\n",
       "      <td>0.000000</td>\n",
       "      <td>0.000000</td>\n",
       "      <td>0.000000</td>\n",
       "    </tr>\n",
       "    <tr>\n",
       "      <th>Q4</th>\n",
       "      <td>0.000</td>\n",
       "      <td>0.000000</td>\n",
       "      <td>0.000000</td>\n",
       "      <td>0.000000</td>\n",
       "      <td>0.000000</td>\n",
       "    </tr>\n",
       "    <tr>\n",
       "      <th>Q4</th>\n",
       "      <td>0.000</td>\n",
       "      <td>0.000000</td>\n",
       "      <td>0.000000</td>\n",
       "      <td>0.000000</td>\n",
       "      <td>0.000000</td>\n",
       "    </tr>\n",
       "    <tr>\n",
       "      <th>Q4</th>\n",
       "      <td>0.000</td>\n",
       "      <td>0.000000</td>\n",
       "      <td>0.000000</td>\n",
       "      <td>0.000000</td>\n",
       "      <td>0.000000</td>\n",
       "    </tr>\n",
       "    <tr>\n",
       "      <th>Q4</th>\n",
       "      <td>0.000</td>\n",
       "      <td>0.000000</td>\n",
       "      <td>0.000000</td>\n",
       "      <td>0.000000</td>\n",
       "      <td>0.000000</td>\n",
       "    </tr>\n",
       "    <tr>\n",
       "      <th>Q4</th>\n",
       "      <td>0.000</td>\n",
       "      <td>0.000000</td>\n",
       "      <td>0.000000</td>\n",
       "      <td>0.000000</td>\n",
       "      <td>0.000000</td>\n",
       "    </tr>\n",
       "    <tr>\n",
       "      <th>Q4</th>\n",
       "      <td>0.000</td>\n",
       "      <td>0.000000</td>\n",
       "      <td>0.000000</td>\n",
       "      <td>0.000000</td>\n",
       "      <td>0.000000</td>\n",
       "    </tr>\n",
       "    <tr>\n",
       "      <th>Q4</th>\n",
       "      <td>0.000</td>\n",
       "      <td>0.000000</td>\n",
       "      <td>0.000000</td>\n",
       "      <td>0.000000</td>\n",
       "      <td>0.000000</td>\n",
       "    </tr>\n",
       "  </tbody>\n",
       "</table>\n",
       "</div>"
      ],
      "text/plain": [
       "              0            1            2            3            4\n",
       "Sales  1734.827  2244.960999  2533.804993  2154.962997  1547.818996\n",
       "Q1        1.000     0.000000     0.000000     0.000000     0.000000\n",
       "Q1        0.000     0.000000     0.000000     0.000000     1.000000\n",
       "Q1        0.000     0.000000     0.000000     0.000000     0.000000\n",
       "Q1        0.000     0.000000     0.000000     0.000000     0.000000\n",
       "Q1        0.000     0.000000     0.000000     0.000000     0.000000\n",
       "Q1        0.000     0.000000     0.000000     0.000000     0.000000\n",
       "Q1        0.000     0.000000     0.000000     0.000000     0.000000\n",
       "Q1        0.000     0.000000     0.000000     0.000000     0.000000\n",
       "Q1        0.000     0.000000     0.000000     0.000000     0.000000\n",
       "Q1        0.000     0.000000     0.000000     0.000000     0.000000\n",
       "Q1        0.000     0.000000     0.000000     0.000000     0.000000\n",
       "Q2        0.000     1.000000     0.000000     0.000000     0.000000\n",
       "Q2        0.000     0.000000     0.000000     0.000000     0.000000\n",
       "Q2        0.000     0.000000     0.000000     0.000000     0.000000\n",
       "Q2        0.000     0.000000     0.000000     0.000000     0.000000\n",
       "Q2        0.000     0.000000     0.000000     0.000000     0.000000\n",
       "Q2        0.000     0.000000     0.000000     0.000000     0.000000\n",
       "Q2        0.000     0.000000     0.000000     0.000000     0.000000\n",
       "Q2        0.000     0.000000     0.000000     0.000000     0.000000\n",
       "Q2        0.000     0.000000     0.000000     0.000000     0.000000\n",
       "Q2        0.000     0.000000     0.000000     0.000000     0.000000\n",
       "Q2        0.000     0.000000     0.000000     0.000000     0.000000\n",
       "Q3        0.000     0.000000     1.000000     0.000000     0.000000\n",
       "Q3        0.000     0.000000     0.000000     0.000000     0.000000\n",
       "Q3        0.000     0.000000     0.000000     0.000000     0.000000\n",
       "Q3        0.000     0.000000     0.000000     0.000000     0.000000\n",
       "Q3        0.000     0.000000     0.000000     0.000000     0.000000\n",
       "Q3        0.000     0.000000     0.000000     0.000000     0.000000\n",
       "Q3        0.000     0.000000     0.000000     0.000000     0.000000\n",
       "Q3        0.000     0.000000     0.000000     0.000000     0.000000\n",
       "Q3        0.000     0.000000     0.000000     0.000000     0.000000\n",
       "Q3        0.000     0.000000     0.000000     0.000000     0.000000\n",
       "Q4        0.000     0.000000     0.000000     1.000000     0.000000\n",
       "Q4        0.000     0.000000     0.000000     0.000000     0.000000\n",
       "Q4        0.000     0.000000     0.000000     0.000000     0.000000\n",
       "Q4        0.000     0.000000     0.000000     0.000000     0.000000\n",
       "Q4        0.000     0.000000     0.000000     0.000000     0.000000\n",
       "Q4        0.000     0.000000     0.000000     0.000000     0.000000\n",
       "Q4        0.000     0.000000     0.000000     0.000000     0.000000\n",
       "Q4        0.000     0.000000     0.000000     0.000000     0.000000\n",
       "Q4        0.000     0.000000     0.000000     0.000000     0.000000\n",
       "Q4        0.000     0.000000     0.000000     0.000000     0.000000"
      ]
     },
     "execution_count": 114,
     "metadata": {},
     "output_type": "execute_result"
    }
   ],
   "source": [
    "df2.head().T"
   ]
  },
  {
   "cell_type": "code",
   "execution_count": 115,
   "id": "be4dc3da",
   "metadata": {},
   "outputs": [],
   "source": [
    "t= np.arange(1,43)"
   ]
  },
  {
   "cell_type": "code",
   "execution_count": 116,
   "id": "026f71ba",
   "metadata": {},
   "outputs": [],
   "source": [
    "df2['t'] = t"
   ]
  },
  {
   "cell_type": "code",
   "execution_count": 117,
   "id": "a025c608",
   "metadata": {},
   "outputs": [],
   "source": [
    "df2['t_sq'] = df2['t']*df2['t']"
   ]
  },
  {
   "cell_type": "code",
   "execution_count": 118,
   "id": "6f485c3e",
   "metadata": {},
   "outputs": [],
   "source": [
    "log_Sales=np.log(df2['Sales'])"
   ]
  },
  {
   "cell_type": "code",
   "execution_count": 119,
   "id": "166c9b68",
   "metadata": {},
   "outputs": [],
   "source": [
    "df2['log_Sales']=log_Sales"
   ]
  },
  {
   "cell_type": "code",
   "execution_count": 120,
   "id": "03afa182",
   "metadata": {},
   "outputs": [
    {
     "data": {
      "text/html": [
       "<div>\n",
       "<style scoped>\n",
       "    .dataframe tbody tr th:only-of-type {\n",
       "        vertical-align: middle;\n",
       "    }\n",
       "\n",
       "    .dataframe tbody tr th {\n",
       "        vertical-align: top;\n",
       "    }\n",
       "\n",
       "    .dataframe thead th {\n",
       "        text-align: right;\n",
       "    }\n",
       "</style>\n",
       "<table border=\"1\" class=\"dataframe\">\n",
       "  <thead>\n",
       "    <tr style=\"text-align: right;\">\n",
       "      <th></th>\n",
       "      <th>0</th>\n",
       "      <th>1</th>\n",
       "      <th>2</th>\n",
       "      <th>3</th>\n",
       "      <th>4</th>\n",
       "    </tr>\n",
       "  </thead>\n",
       "  <tbody>\n",
       "    <tr>\n",
       "      <th>Sales</th>\n",
       "      <td>1734.827000</td>\n",
       "      <td>2244.960999</td>\n",
       "      <td>2533.804993</td>\n",
       "      <td>2154.962997</td>\n",
       "      <td>1547.818996</td>\n",
       "    </tr>\n",
       "    <tr>\n",
       "      <th>Q1</th>\n",
       "      <td>1.000000</td>\n",
       "      <td>0.000000</td>\n",
       "      <td>0.000000</td>\n",
       "      <td>0.000000</td>\n",
       "      <td>0.000000</td>\n",
       "    </tr>\n",
       "    <tr>\n",
       "      <th>Q1</th>\n",
       "      <td>0.000000</td>\n",
       "      <td>0.000000</td>\n",
       "      <td>0.000000</td>\n",
       "      <td>0.000000</td>\n",
       "      <td>1.000000</td>\n",
       "    </tr>\n",
       "    <tr>\n",
       "      <th>Q1</th>\n",
       "      <td>0.000000</td>\n",
       "      <td>0.000000</td>\n",
       "      <td>0.000000</td>\n",
       "      <td>0.000000</td>\n",
       "      <td>0.000000</td>\n",
       "    </tr>\n",
       "    <tr>\n",
       "      <th>Q1</th>\n",
       "      <td>0.000000</td>\n",
       "      <td>0.000000</td>\n",
       "      <td>0.000000</td>\n",
       "      <td>0.000000</td>\n",
       "      <td>0.000000</td>\n",
       "    </tr>\n",
       "    <tr>\n",
       "      <th>Q1</th>\n",
       "      <td>0.000000</td>\n",
       "      <td>0.000000</td>\n",
       "      <td>0.000000</td>\n",
       "      <td>0.000000</td>\n",
       "      <td>0.000000</td>\n",
       "    </tr>\n",
       "    <tr>\n",
       "      <th>Q1</th>\n",
       "      <td>0.000000</td>\n",
       "      <td>0.000000</td>\n",
       "      <td>0.000000</td>\n",
       "      <td>0.000000</td>\n",
       "      <td>0.000000</td>\n",
       "    </tr>\n",
       "    <tr>\n",
       "      <th>Q1</th>\n",
       "      <td>0.000000</td>\n",
       "      <td>0.000000</td>\n",
       "      <td>0.000000</td>\n",
       "      <td>0.000000</td>\n",
       "      <td>0.000000</td>\n",
       "    </tr>\n",
       "    <tr>\n",
       "      <th>Q1</th>\n",
       "      <td>0.000000</td>\n",
       "      <td>0.000000</td>\n",
       "      <td>0.000000</td>\n",
       "      <td>0.000000</td>\n",
       "      <td>0.000000</td>\n",
       "    </tr>\n",
       "    <tr>\n",
       "      <th>Q1</th>\n",
       "      <td>0.000000</td>\n",
       "      <td>0.000000</td>\n",
       "      <td>0.000000</td>\n",
       "      <td>0.000000</td>\n",
       "      <td>0.000000</td>\n",
       "    </tr>\n",
       "    <tr>\n",
       "      <th>Q1</th>\n",
       "      <td>0.000000</td>\n",
       "      <td>0.000000</td>\n",
       "      <td>0.000000</td>\n",
       "      <td>0.000000</td>\n",
       "      <td>0.000000</td>\n",
       "    </tr>\n",
       "    <tr>\n",
       "      <th>Q1</th>\n",
       "      <td>0.000000</td>\n",
       "      <td>0.000000</td>\n",
       "      <td>0.000000</td>\n",
       "      <td>0.000000</td>\n",
       "      <td>0.000000</td>\n",
       "    </tr>\n",
       "    <tr>\n",
       "      <th>Q2</th>\n",
       "      <td>0.000000</td>\n",
       "      <td>1.000000</td>\n",
       "      <td>0.000000</td>\n",
       "      <td>0.000000</td>\n",
       "      <td>0.000000</td>\n",
       "    </tr>\n",
       "    <tr>\n",
       "      <th>Q2</th>\n",
       "      <td>0.000000</td>\n",
       "      <td>0.000000</td>\n",
       "      <td>0.000000</td>\n",
       "      <td>0.000000</td>\n",
       "      <td>0.000000</td>\n",
       "    </tr>\n",
       "    <tr>\n",
       "      <th>Q2</th>\n",
       "      <td>0.000000</td>\n",
       "      <td>0.000000</td>\n",
       "      <td>0.000000</td>\n",
       "      <td>0.000000</td>\n",
       "      <td>0.000000</td>\n",
       "    </tr>\n",
       "    <tr>\n",
       "      <th>Q2</th>\n",
       "      <td>0.000000</td>\n",
       "      <td>0.000000</td>\n",
       "      <td>0.000000</td>\n",
       "      <td>0.000000</td>\n",
       "      <td>0.000000</td>\n",
       "    </tr>\n",
       "    <tr>\n",
       "      <th>Q2</th>\n",
       "      <td>0.000000</td>\n",
       "      <td>0.000000</td>\n",
       "      <td>0.000000</td>\n",
       "      <td>0.000000</td>\n",
       "      <td>0.000000</td>\n",
       "    </tr>\n",
       "    <tr>\n",
       "      <th>Q2</th>\n",
       "      <td>0.000000</td>\n",
       "      <td>0.000000</td>\n",
       "      <td>0.000000</td>\n",
       "      <td>0.000000</td>\n",
       "      <td>0.000000</td>\n",
       "    </tr>\n",
       "    <tr>\n",
       "      <th>Q2</th>\n",
       "      <td>0.000000</td>\n",
       "      <td>0.000000</td>\n",
       "      <td>0.000000</td>\n",
       "      <td>0.000000</td>\n",
       "      <td>0.000000</td>\n",
       "    </tr>\n",
       "    <tr>\n",
       "      <th>Q2</th>\n",
       "      <td>0.000000</td>\n",
       "      <td>0.000000</td>\n",
       "      <td>0.000000</td>\n",
       "      <td>0.000000</td>\n",
       "      <td>0.000000</td>\n",
       "    </tr>\n",
       "    <tr>\n",
       "      <th>Q2</th>\n",
       "      <td>0.000000</td>\n",
       "      <td>0.000000</td>\n",
       "      <td>0.000000</td>\n",
       "      <td>0.000000</td>\n",
       "      <td>0.000000</td>\n",
       "    </tr>\n",
       "    <tr>\n",
       "      <th>Q2</th>\n",
       "      <td>0.000000</td>\n",
       "      <td>0.000000</td>\n",
       "      <td>0.000000</td>\n",
       "      <td>0.000000</td>\n",
       "      <td>0.000000</td>\n",
       "    </tr>\n",
       "    <tr>\n",
       "      <th>Q2</th>\n",
       "      <td>0.000000</td>\n",
       "      <td>0.000000</td>\n",
       "      <td>0.000000</td>\n",
       "      <td>0.000000</td>\n",
       "      <td>0.000000</td>\n",
       "    </tr>\n",
       "    <tr>\n",
       "      <th>Q3</th>\n",
       "      <td>0.000000</td>\n",
       "      <td>0.000000</td>\n",
       "      <td>1.000000</td>\n",
       "      <td>0.000000</td>\n",
       "      <td>0.000000</td>\n",
       "    </tr>\n",
       "    <tr>\n",
       "      <th>Q3</th>\n",
       "      <td>0.000000</td>\n",
       "      <td>0.000000</td>\n",
       "      <td>0.000000</td>\n",
       "      <td>0.000000</td>\n",
       "      <td>0.000000</td>\n",
       "    </tr>\n",
       "    <tr>\n",
       "      <th>Q3</th>\n",
       "      <td>0.000000</td>\n",
       "      <td>0.000000</td>\n",
       "      <td>0.000000</td>\n",
       "      <td>0.000000</td>\n",
       "      <td>0.000000</td>\n",
       "    </tr>\n",
       "    <tr>\n",
       "      <th>Q3</th>\n",
       "      <td>0.000000</td>\n",
       "      <td>0.000000</td>\n",
       "      <td>0.000000</td>\n",
       "      <td>0.000000</td>\n",
       "      <td>0.000000</td>\n",
       "    </tr>\n",
       "    <tr>\n",
       "      <th>Q3</th>\n",
       "      <td>0.000000</td>\n",
       "      <td>0.000000</td>\n",
       "      <td>0.000000</td>\n",
       "      <td>0.000000</td>\n",
       "      <td>0.000000</td>\n",
       "    </tr>\n",
       "    <tr>\n",
       "      <th>Q3</th>\n",
       "      <td>0.000000</td>\n",
       "      <td>0.000000</td>\n",
       "      <td>0.000000</td>\n",
       "      <td>0.000000</td>\n",
       "      <td>0.000000</td>\n",
       "    </tr>\n",
       "    <tr>\n",
       "      <th>Q3</th>\n",
       "      <td>0.000000</td>\n",
       "      <td>0.000000</td>\n",
       "      <td>0.000000</td>\n",
       "      <td>0.000000</td>\n",
       "      <td>0.000000</td>\n",
       "    </tr>\n",
       "    <tr>\n",
       "      <th>Q3</th>\n",
       "      <td>0.000000</td>\n",
       "      <td>0.000000</td>\n",
       "      <td>0.000000</td>\n",
       "      <td>0.000000</td>\n",
       "      <td>0.000000</td>\n",
       "    </tr>\n",
       "    <tr>\n",
       "      <th>Q3</th>\n",
       "      <td>0.000000</td>\n",
       "      <td>0.000000</td>\n",
       "      <td>0.000000</td>\n",
       "      <td>0.000000</td>\n",
       "      <td>0.000000</td>\n",
       "    </tr>\n",
       "    <tr>\n",
       "      <th>Q3</th>\n",
       "      <td>0.000000</td>\n",
       "      <td>0.000000</td>\n",
       "      <td>0.000000</td>\n",
       "      <td>0.000000</td>\n",
       "      <td>0.000000</td>\n",
       "    </tr>\n",
       "    <tr>\n",
       "      <th>Q4</th>\n",
       "      <td>0.000000</td>\n",
       "      <td>0.000000</td>\n",
       "      <td>0.000000</td>\n",
       "      <td>1.000000</td>\n",
       "      <td>0.000000</td>\n",
       "    </tr>\n",
       "    <tr>\n",
       "      <th>Q4</th>\n",
       "      <td>0.000000</td>\n",
       "      <td>0.000000</td>\n",
       "      <td>0.000000</td>\n",
       "      <td>0.000000</td>\n",
       "      <td>0.000000</td>\n",
       "    </tr>\n",
       "    <tr>\n",
       "      <th>Q4</th>\n",
       "      <td>0.000000</td>\n",
       "      <td>0.000000</td>\n",
       "      <td>0.000000</td>\n",
       "      <td>0.000000</td>\n",
       "      <td>0.000000</td>\n",
       "    </tr>\n",
       "    <tr>\n",
       "      <th>Q4</th>\n",
       "      <td>0.000000</td>\n",
       "      <td>0.000000</td>\n",
       "      <td>0.000000</td>\n",
       "      <td>0.000000</td>\n",
       "      <td>0.000000</td>\n",
       "    </tr>\n",
       "    <tr>\n",
       "      <th>Q4</th>\n",
       "      <td>0.000000</td>\n",
       "      <td>0.000000</td>\n",
       "      <td>0.000000</td>\n",
       "      <td>0.000000</td>\n",
       "      <td>0.000000</td>\n",
       "    </tr>\n",
       "    <tr>\n",
       "      <th>Q4</th>\n",
       "      <td>0.000000</td>\n",
       "      <td>0.000000</td>\n",
       "      <td>0.000000</td>\n",
       "      <td>0.000000</td>\n",
       "      <td>0.000000</td>\n",
       "    </tr>\n",
       "    <tr>\n",
       "      <th>Q4</th>\n",
       "      <td>0.000000</td>\n",
       "      <td>0.000000</td>\n",
       "      <td>0.000000</td>\n",
       "      <td>0.000000</td>\n",
       "      <td>0.000000</td>\n",
       "    </tr>\n",
       "    <tr>\n",
       "      <th>Q4</th>\n",
       "      <td>0.000000</td>\n",
       "      <td>0.000000</td>\n",
       "      <td>0.000000</td>\n",
       "      <td>0.000000</td>\n",
       "      <td>0.000000</td>\n",
       "    </tr>\n",
       "    <tr>\n",
       "      <th>Q4</th>\n",
       "      <td>0.000000</td>\n",
       "      <td>0.000000</td>\n",
       "      <td>0.000000</td>\n",
       "      <td>0.000000</td>\n",
       "      <td>0.000000</td>\n",
       "    </tr>\n",
       "    <tr>\n",
       "      <th>Q4</th>\n",
       "      <td>0.000000</td>\n",
       "      <td>0.000000</td>\n",
       "      <td>0.000000</td>\n",
       "      <td>0.000000</td>\n",
       "      <td>0.000000</td>\n",
       "    </tr>\n",
       "    <tr>\n",
       "      <th>t</th>\n",
       "      <td>1.000000</td>\n",
       "      <td>2.000000</td>\n",
       "      <td>3.000000</td>\n",
       "      <td>4.000000</td>\n",
       "      <td>5.000000</td>\n",
       "    </tr>\n",
       "    <tr>\n",
       "      <th>t_sq</th>\n",
       "      <td>1.000000</td>\n",
       "      <td>4.000000</td>\n",
       "      <td>9.000000</td>\n",
       "      <td>16.000000</td>\n",
       "      <td>25.000000</td>\n",
       "    </tr>\n",
       "    <tr>\n",
       "      <th>log_Sales</th>\n",
       "      <td>7.458663</td>\n",
       "      <td>7.716443</td>\n",
       "      <td>7.837477</td>\n",
       "      <td>7.675529</td>\n",
       "      <td>7.344602</td>\n",
       "    </tr>\n",
       "  </tbody>\n",
       "</table>\n",
       "</div>"
      ],
      "text/plain": [
       "                     0            1            2            3            4\n",
       "Sales      1734.827000  2244.960999  2533.804993  2154.962997  1547.818996\n",
       "Q1            1.000000     0.000000     0.000000     0.000000     0.000000\n",
       "Q1            0.000000     0.000000     0.000000     0.000000     1.000000\n",
       "Q1            0.000000     0.000000     0.000000     0.000000     0.000000\n",
       "Q1            0.000000     0.000000     0.000000     0.000000     0.000000\n",
       "Q1            0.000000     0.000000     0.000000     0.000000     0.000000\n",
       "Q1            0.000000     0.000000     0.000000     0.000000     0.000000\n",
       "Q1            0.000000     0.000000     0.000000     0.000000     0.000000\n",
       "Q1            0.000000     0.000000     0.000000     0.000000     0.000000\n",
       "Q1            0.000000     0.000000     0.000000     0.000000     0.000000\n",
       "Q1            0.000000     0.000000     0.000000     0.000000     0.000000\n",
       "Q1            0.000000     0.000000     0.000000     0.000000     0.000000\n",
       "Q2            0.000000     1.000000     0.000000     0.000000     0.000000\n",
       "Q2            0.000000     0.000000     0.000000     0.000000     0.000000\n",
       "Q2            0.000000     0.000000     0.000000     0.000000     0.000000\n",
       "Q2            0.000000     0.000000     0.000000     0.000000     0.000000\n",
       "Q2            0.000000     0.000000     0.000000     0.000000     0.000000\n",
       "Q2            0.000000     0.000000     0.000000     0.000000     0.000000\n",
       "Q2            0.000000     0.000000     0.000000     0.000000     0.000000\n",
       "Q2            0.000000     0.000000     0.000000     0.000000     0.000000\n",
       "Q2            0.000000     0.000000     0.000000     0.000000     0.000000\n",
       "Q2            0.000000     0.000000     0.000000     0.000000     0.000000\n",
       "Q2            0.000000     0.000000     0.000000     0.000000     0.000000\n",
       "Q3            0.000000     0.000000     1.000000     0.000000     0.000000\n",
       "Q3            0.000000     0.000000     0.000000     0.000000     0.000000\n",
       "Q3            0.000000     0.000000     0.000000     0.000000     0.000000\n",
       "Q3            0.000000     0.000000     0.000000     0.000000     0.000000\n",
       "Q3            0.000000     0.000000     0.000000     0.000000     0.000000\n",
       "Q3            0.000000     0.000000     0.000000     0.000000     0.000000\n",
       "Q3            0.000000     0.000000     0.000000     0.000000     0.000000\n",
       "Q3            0.000000     0.000000     0.000000     0.000000     0.000000\n",
       "Q3            0.000000     0.000000     0.000000     0.000000     0.000000\n",
       "Q3            0.000000     0.000000     0.000000     0.000000     0.000000\n",
       "Q4            0.000000     0.000000     0.000000     1.000000     0.000000\n",
       "Q4            0.000000     0.000000     0.000000     0.000000     0.000000\n",
       "Q4            0.000000     0.000000     0.000000     0.000000     0.000000\n",
       "Q4            0.000000     0.000000     0.000000     0.000000     0.000000\n",
       "Q4            0.000000     0.000000     0.000000     0.000000     0.000000\n",
       "Q4            0.000000     0.000000     0.000000     0.000000     0.000000\n",
       "Q4            0.000000     0.000000     0.000000     0.000000     0.000000\n",
       "Q4            0.000000     0.000000     0.000000     0.000000     0.000000\n",
       "Q4            0.000000     0.000000     0.000000     0.000000     0.000000\n",
       "Q4            0.000000     0.000000     0.000000     0.000000     0.000000\n",
       "t             1.000000     2.000000     3.000000     4.000000     5.000000\n",
       "t_sq          1.000000     4.000000     9.000000    16.000000    25.000000\n",
       "log_Sales     7.458663     7.716443     7.837477     7.675529     7.344602"
      ]
     },
     "execution_count": 120,
     "metadata": {},
     "output_type": "execute_result"
    }
   ],
   "source": [
    "df2.head().T"
   ]
  },
  {
   "cell_type": "markdown",
   "id": "8e55cf4f",
   "metadata": {},
   "source": [
    "# Evaluation Metric RMS"
   ]
  },
  {
   "cell_type": "code",
   "execution_count": 121,
   "id": "8decda50",
   "metadata": {},
   "outputs": [],
   "source": [
    "def RMSE(org, pred):\n",
    "    rmse = np.sqrt(np.mean((np.array(org)-np.array(pred))**2))\n",
    "    return rmse"
   ]
  },
  {
   "cell_type": "code",
   "execution_count": 122,
   "id": "03e972d8",
   "metadata": {},
   "outputs": [],
   "source": [
    "# Splitting the data\n",
    "train1, test1 = np.split(df2, [int(.67 *len(df2))])"
   ]
  },
  {
   "cell_type": "markdown",
   "id": "e7cf93a6",
   "metadata": {},
   "source": [
    "### Linear model"
   ]
  },
  {
   "cell_type": "code",
   "execution_count": 123,
   "id": "024e8386",
   "metadata": {},
   "outputs": [
    {
     "data": {
      "text/plain": [
       "750.4020694454623"
      ]
     },
     "execution_count": 123,
     "metadata": {},
     "output_type": "execute_result"
    }
   ],
   "source": [
    "linear= smf.ols('Sales ~ t',data=train1).fit()\n",
    "predlin=pd.Series(linear.predict(pd.DataFrame(test1['t'])))\n",
    "rmselin=RMSE(test1['Sales'], predlin)\n",
    "rmselin"
   ]
  },
  {
   "cell_type": "markdown",
   "id": "c1bb569f",
   "metadata": {},
   "source": [
    "### Quadratic model"
   ]
  },
  {
   "cell_type": "code",
   "execution_count": 124,
   "id": "3a1b20b4",
   "metadata": {},
   "outputs": [
    {
     "data": {
      "text/plain": [
       "783.7297975037103"
      ]
     },
     "execution_count": 124,
     "metadata": {},
     "output_type": "execute_result"
    }
   ],
   "source": [
    "quad=smf.ols('Sales~t+t_sq',data=train1).fit()\n",
    "predquad=pd.Series(quad.predict(pd.DataFrame(test1[['t','t_sq']])))\n",
    "rmsequad=RMSE(test1['Sales'], predquad)\n",
    "rmsequad"
   ]
  },
  {
   "cell_type": "markdown",
   "id": "fb79cd07",
   "metadata": {},
   "source": [
    "### Exponential model"
   ]
  },
  {
   "cell_type": "code",
   "execution_count": 125,
   "id": "20f8fe1f",
   "metadata": {},
   "outputs": [
    {
     "data": {
      "text/plain": [
       "4152.488855796471"
      ]
     },
     "execution_count": 125,
     "metadata": {},
     "output_type": "execute_result"
    }
   ],
   "source": [
    "expo=smf.ols('log_Sales~t',data=train1).fit()\n",
    "predexp=pd.Series(expo.predict(pd.DataFrame(test1['t'])))\n",
    "rmseexpo=RMSE(test1['Sales'], predexp)\n",
    "rmseexpo"
   ]
  },
  {
   "cell_type": "markdown",
   "id": "622832e2",
   "metadata": {},
   "source": [
    "### Additive seasonality model"
   ]
  },
  {
   "cell_type": "code",
   "execution_count": 126,
   "id": "626ebdb7",
   "metadata": {},
   "outputs": [
    {
     "data": {
      "text/plain": [
       "1869.7188209186947"
      ]
     },
     "execution_count": 126,
     "metadata": {},
     "output_type": "execute_result"
    }
   ],
   "source": [
    "additive= smf.ols('Sales~ Q1+Q2+Q3+Q4',data=train1).fit()\n",
    "predadd=pd.Series(additive.predict(pd.DataFrame(test1[['Q1','Q2','Q3','Q4']])))\n",
    "rmseadd=RMSE(test1['Sales'], predadd)\n",
    "rmseadd"
   ]
  },
  {
   "cell_type": "markdown",
   "id": "bd1bd897",
   "metadata": {},
   "source": [
    "### Additive Linear seasonality model"
   ]
  },
  {
   "cell_type": "code",
   "execution_count": 127,
   "id": "3867e2ee",
   "metadata": {},
   "outputs": [
    {
     "data": {
      "text/plain": [
       "596.1526282372472"
      ]
     },
     "execution_count": 127,
     "metadata": {},
     "output_type": "execute_result"
    }
   ],
   "source": [
    "addlinear= smf.ols('Sales~t+Q1+Q2+Q3+Q4',data=train1).fit()\n",
    "predaddlinear=pd.Series(addlinear.predict(pd.DataFrame(test1[['t','Q1','Q2','Q3','Q4']])))\n",
    "rmseaddlinear=RMSE(test1['Sales'], predaddlinear)\n",
    "rmseaddlinear"
   ]
  },
  {
   "cell_type": "markdown",
   "id": "8cf79022",
   "metadata": {},
   "source": [
    "### Additive Quadratic model"
   ]
  },
  {
   "cell_type": "code",
   "execution_count": 128,
   "id": "62156931",
   "metadata": {},
   "outputs": [
    {
     "data": {
      "text/plain": [
       "3572.281168392929"
      ]
     },
     "execution_count": 128,
     "metadata": {},
     "output_type": "execute_result"
    }
   ],
   "source": [
    "addquad=smf.ols('Sales~t+t_sq+Q1+Q2+Q3+Q4',data=train1).fit()\n",
    "predaddquad=pd.Series(addquad.predict(pd.DataFrame(test1[['t','t_sq','Q1','Q2','Q3','Q4']])))\n",
    "rmseaddquad=RMSE(test1['Sales'], rmseaddlinear)\n",
    "rmseaddquad"
   ]
  },
  {
   "cell_type": "markdown",
   "id": "8e4af047",
   "metadata": {},
   "source": [
    "### Multiple seasonality model"
   ]
  },
  {
   "cell_type": "code",
   "execution_count": 129,
   "id": "b40a2d9f",
   "metadata": {},
   "outputs": [
    {
     "data": {
      "text/plain": [
       "4153.198068515678"
      ]
     },
     "execution_count": 129,
     "metadata": {},
     "output_type": "execute_result"
    }
   ],
   "source": [
    "mulsea=smf.ols('log_Sales~Q1+Q2+Q3+Q4',data=train1).fit()\n",
    "predmul= pd.Series(mulsea.predict(pd.DataFrame(test1[['Q1','Q2','Q3','Q4']])))\n",
    "rmsemul= RMSE(test1['Sales'], predmul)\n",
    "rmsemul"
   ]
  },
  {
   "cell_type": "markdown",
   "id": "60498355",
   "metadata": {},
   "source": [
    "### Multiple linear seasonality model"
   ]
  },
  {
   "cell_type": "code",
   "execution_count": 130,
   "id": "201f13a0",
   "metadata": {},
   "outputs": [
    {
     "data": {
      "text/plain": [
       "4151.624621406226"
      ]
     },
     "execution_count": 130,
     "metadata": {},
     "output_type": "execute_result"
    }
   ],
   "source": [
    "mullin= smf.ols('log_Sales~t+Q1+Q2+Q3+Q4',data=train1).fit()\n",
    "predmullin= pd.Series(mullin.predict(pd.DataFrame(test1[['t','Q1','Q2','Q3','Q4']])))\n",
    "rmsemulin=RMSE(test1['Sales'], predmullin)\n",
    "rmsemulin"
   ]
  },
  {
   "cell_type": "markdown",
   "id": "2f5bb98c",
   "metadata": {},
   "source": [
    "### Multiple Quadratic seasonality model"
   ]
  },
  {
   "cell_type": "code",
   "execution_count": 131,
   "id": "dc76e989",
   "metadata": {},
   "outputs": [
    {
     "data": {
      "text/plain": [
       "4154.748058198833"
      ]
     },
     "execution_count": 131,
     "metadata": {},
     "output_type": "execute_result"
    }
   ],
   "source": [
    "mul_quad= smf.ols('log_Sales~t+t_sq+Q1+Q2+Q3+Q4',data=train1).fit()\n",
    "pred_mul_quad= pd.Series(mul_quad.predict(test1[['t','t_sq','Q1','Q2','Q3','Q4']]))\n",
    "rmse_mul_quad=RMSE(test1['Sales'], pred_mul_quad)\n",
    "rmse_mul_quad"
   ]
  },
  {
   "cell_type": "code",
   "execution_count": 132,
   "id": "30145331",
   "metadata": {},
   "outputs": [],
   "source": [
    "table = {'Model':pd.Series(['rmse_mul_quad','rmseadd','rmseaddlinear','rmseaddquad','rmseexpo','rmselin','rmsemul','rmsemulin','rmsequad']),\n",
    "          'RMSE Values':pd.Series([rmse_mul_quad,rmseadd,rmseaddlinear,rmseaddquad,rmseexpo,rmselin,rmsemul,rmsemulin,rmsequad])}\n"
   ]
  },
  {
   "cell_type": "code",
   "execution_count": 133,
   "id": "c3891d56",
   "metadata": {},
   "outputs": [
    {
     "name": "stdout",
     "output_type": "stream",
     "text": [
      "           Model  RMSE Values\n",
      "0  rmse_mul_quad  4154.748058\n",
      "1        rmseadd  1869.718821\n",
      "2  rmseaddlinear   596.152628\n",
      "3    rmseaddquad  3572.281168\n",
      "4       rmseexpo  4152.488856\n",
      "5        rmselin   750.402069\n",
      "6        rmsemul  4153.198069\n",
      "7      rmsemulin  4151.624621\n",
      "8       rmsequad   783.729798\n"
     ]
    }
   ],
   "source": [
    "Table=pd.DataFrame(table)\n",
    "print(Table)"
   ]
  },
  {
   "cell_type": "code",
   "execution_count": 134,
   "id": "1d95ca0c",
   "metadata": {},
   "outputs": [
    {
     "data": {
      "image/png": "[encoded data removed]",
      "text/plain": [
       "<Figure size 432x288 with 1 Axes>"
      ]
     },
     "metadata": {},
     "output_type": "display_data"
    },
    {
     "data": {
      "text/plain": [
       "<Figure size 7200x3600 with 0 Axes>"
      ]
     },
     "metadata": {},
     "output_type": "display_data"
    }
   ],
   "source": [
    "sns.barplot(data = table,x = 'Model',y = 'RMSE Values')\n",
    "plt.figure(figsize=(100, 50))\n",
    "plt.show()"
   ]
  },
  {
   "cell_type": "markdown",
   "id": "8a004d6e",
   "metadata": {},
   "source": [
    "Additive Linear seasonality model has the lowest RSME value. Hence, will be used for Final Model Building"
   ]
  },
  {
   "cell_type": "code",
   "execution_count": 135,
   "id": "727a9244",
   "metadata": {},
   "outputs": [
    {
     "data": {
      "text/plain": [
       "28    3308.618747\n",
       "29    3372.483355\n",
       "30    3436.347964\n",
       "31    3500.212572\n",
       "32    3564.077181\n",
       "33    3627.941790\n",
       "34    3691.806398\n",
       "35    3755.671007\n",
       "36    3819.535615\n",
       "37    3883.400224\n",
       "38    3947.264832\n",
       "39    4011.129441\n",
       "40    4074.994050\n",
       "41    4138.858658\n",
       "dtype: float64"
      ]
     },
     "execution_count": 135,
     "metadata": {},
     "output_type": "execute_result"
    }
   ],
   "source": [
    "predaddlinear"
   ]
  },
  {
   "cell_type": "markdown",
   "id": "2489abb6",
   "metadata": {},
   "source": [
    "## End"
   ]
  },
  {
   "cell_type": "code",
   "execution_count": null,
   "id": "fb4f2ac6",
   "metadata": {},
   "outputs": [],
   "source": []
  }
 ],
 "metadata": {
  "kernelspec": {
   "display_name": "Python 3 (ipykernel)",
   "language": "python",
   "name": "python3"
  },
  "language_info": {
   "codemirror_mode": {
    "name": "ipython",
    "version": 3
   },
   "file_extension": ".py",
   "mimetype": "text/x-python",
   "name": "python",
   "nbconvert_exporter": "python",
   "pygments_lexer": "ipython3",
   "version": "3.9.7"
  }
 },
 "nbformat": 4,
 "nbformat_minor": 5
}
